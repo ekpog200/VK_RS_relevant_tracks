{
 "cells": [
  {
   "cell_type": "code",
   "execution_count": 11,
   "id": "613cc0e8-526d-477d-8f82-c79182138dff",
   "metadata": {},
   "outputs": [],
   "source": [
    "import nbimporter\n",
    "from pathlib import Path\n",
    "import pandas as pd\n",
    "from catboost import CatBoostClassifier, Pool\n",
    "from sklearn.metrics import ndcg_score\n",
    "\n",
    "from Preprop import * # load the data_preprocess function\n",
    "from Feature_En import * # load the feature_generating function"
   ]
  },
  {
   "cell_type": "code",
   "execution_count": 2,
   "id": "f8c3862d-e777-40e2-aca7-640116548fde",
   "metadata": {},
   "outputs": [],
   "source": [
    "d_path = 'datas'\n",
    "params = {'depth': 10.0, \n",
    "        'l2_leaf_reg': 5.555897323622429, \n",
    "        'learning_rate': 0.4359843989797999, \n",
    "        'loss_function': 'Logloss', \n",
    "        'max_bin': 50.0, \n",
    "        'random_strength': 0.009790073389282446\n",
    "}"
   ]
  },
  {
   "cell_type": "code",
   "execution_count": 12,
   "id": "e52ef8d8-d2a5-498b-98ec-cdd90e840f53",
   "metadata": {},
   "outputs": [],
   "source": [
    "def evaluate(model, X_test, y_test, model_name, use_proba=True):\n",
    "    if use_proba == True:\n",
    "        y_pred = model.predict_proba(X_test)[:, 1]\n",
    "    elif use_proba == False:\n",
    "        y_pred =  model.predict(X_test)\n",
    "    ndcg = ndcg_score(y_test.values.reshape(1, -1), y_pred.reshape(1, -1), k=20)\n",
    "    print(f'NDCG@{20} на тестовых данных c использованием {model_name}: {ndcg}')"
   ]
  },
  {
   "cell_type": "code",
   "execution_count": 4,
   "id": "41da3ca7-a3d1-4d80-98ba-d006aca4aaf2",
   "metadata": {},
   "outputs": [
    {
     "name": "stderr",
     "output_type": "stream",
     "text": [
      "D:\\FOR STADY\\python\\VK_RS_relevant_tracks\\venv\\Lib\\site-packages\\feature_engine\\encoding\\rare_label.py:216: UserWarning: The number of unique categories for variable x1 is less than that indicated in n_categories. Thus, all categories will be considered frequent\n",
      "  warnings.warn(\n",
      "D:\\FOR STADY\\python\\VK_RS_relevant_tracks\\venv\\Lib\\site-packages\\feature_engine\\encoding\\rare_label.py:216: UserWarning: The number of unique categories for variable x4 is less than that indicated in n_categories. Thus, all categories will be considered frequent\n",
      "  warnings.warn(\n"
     ]
    }
   ],
   "source": [
    "df = data_preprocess(d_path, use_test=True)"
   ]
  },
  {
   "cell_type": "code",
   "execution_count": 5,
   "id": "70b0b94e-e349-4c4b-8c21-a4c2744f7429",
   "metadata": {
    "scrolled": true
   },
   "outputs": [
    {
     "name": "stderr",
     "output_type": "stream",
     "text": [
      "Feature_En.ipynb:42: SettingWithCopyWarning: \n",
      "A value is trying to be set on a copy of a slice from a DataFrame.\n",
      "Try using .loc[row_indexer,col_indexer] = value instead\n",
      "\n",
      "See the caveats in the documentation: https://pandas.pydata.org/pandas-docs/stable/user_guide/indexing.html#returning-a-view-versus-a-copy\n",
      "  \"            dataframes_profile.loc[:, item + '_' + featur + '_std'] = dataset.groupby(item)[featur].transform('std')\\n\",\n",
      "Feature_En.ipynb:43: SettingWithCopyWarning: \n",
      "A value is trying to be set on a copy of a slice from a DataFrame.\n",
      "Try using .loc[row_indexer,col_indexer] = value instead\n",
      "\n",
      "See the caveats in the documentation: https://pandas.pydata.org/pandas-docs/stable/user_guide/indexing.html#returning-a-view-versus-a-copy\n",
      "  \"        for featur in category_vars:\\n\",\n",
      "Feature_En.ipynb:52: SettingWithCopyWarning: \n",
      "A value is trying to be set on a copy of a slice from a DataFrame.\n",
      "Try using .loc[row_indexer,col_indexer] = value instead\n",
      "\n",
      "See the caveats in the documentation: https://pandas.pydata.org/pandas-docs/stable/user_guide/indexing.html#returning-a-view-versus-a-copy\n",
      "  \"    item = 'msno'\\n\",\n",
      "Feature_En.ipynb:53: SettingWithCopyWarning: \n",
      "A value is trying to be set on a copy of a slice from a DataFrame.\n",
      "Try using .loc[row_indexer,col_indexer] = value instead\n",
      "\n",
      "See the caveats in the documentation: https://pandas.pydata.org/pandas-docs/stable/user_guide/indexing.html#returning-a-view-versus-a-copy\n",
      "  \"    continuous_vars = ['song_length']\\n\",\n",
      "Feature_En.ipynb:54: SettingWithCopyWarning: \n",
      "A value is trying to be set on a copy of a slice from a DataFrame.\n",
      "Try using .loc[row_indexer,col_indexer] = value instead\n",
      "\n",
      "See the caveats in the documentation: https://pandas.pydata.org/pandas-docs/stable/user_guide/indexing.html#returning-a-view-versus-a-copy\n",
      "  \"    category_vars = ['genre_ids', 'language', 'registered_via', 'source_screen_name', 'source_system_tab', 'source_type']\\n\",\n"
     ]
    }
   ],
   "source": [
    "df = generate_features(df)"
   ]
  },
  {
   "cell_type": "code",
   "execution_count": 6,
   "id": "9b6f4d0c-d8c0-4fbc-b985-aec4a4a3d9c5",
   "metadata": {},
   "outputs": [],
   "source": [
    "df = df.loc[:, df.columns[3:]]\n",
    "train_ind = df['target'][~pd.isnull(df['target'])].index\n",
    "test_ind = df['target'][pd.isnull(df['target'])].index"
   ]
  },
  {
   "cell_type": "code",
   "execution_count": 7,
   "id": "884d9919-13ea-4513-b832-4b5eb37cc90c",
   "metadata": {},
   "outputs": [],
   "source": [
    "X_train = df.drop('target', axis=1).loc[train_ind]\n",
    "y_train = df['target'][train_ind]\n",
    "X_test = df.drop('target', axis=1).loc[test_ind].reset_index(drop=True)\n",
    "y_test = df['target'][test_ind]"
   ]
  },
  {
   "cell_type": "code",
   "execution_count": 8,
   "id": "19ed2ba1-e6c7-45ca-a9ea-46facc1adf82",
   "metadata": {
    "scrolled": true
   },
   "outputs": [
    {
     "name": "stdout",
     "output_type": "stream",
     "text": [
      "0          1.0\n",
      "1          1.0\n",
      "2          1.0\n",
      "3          1.0\n",
      "4          1.0\n",
      "          ... \n",
      "7377413    1.0\n",
      "7377414    0.0\n",
      "7377415    1.0\n",
      "7377416    1.0\n",
      "7377417    1.0\n",
      "Name: target, Length: 7377418, dtype: float32\n",
      "7377418   NaN\n",
      "7377419   NaN\n",
      "7377420   NaN\n",
      "7377421   NaN\n",
      "7377422   NaN\n",
      "           ..\n",
      "9934203   NaN\n",
      "9934204   NaN\n",
      "9934205   NaN\n",
      "9934206   NaN\n",
      "9934207   NaN\n",
      "Name: target, Length: 2556790, dtype: float32\n"
     ]
    }
   ],
   "source": [
    "print(y_train)\n",
    "\n",
    "print(y_test)"
   ]
  },
  {
   "cell_type": "code",
   "execution_count": 13,
   "id": "4cd6b33b-3045-4c35-b4dc-dc834ba80c24",
   "metadata": {
    "scrolled": true
   },
   "outputs": [
    {
     "name": "stdout",
     "output_type": "stream",
     "text": [
      "0:\tlearn: 0.6600035\ttotal: 803ms\tremaining: 39.4s\n",
      "1:\tlearn: 0.6438053\ttotal: 1.69s\tremaining: 40.6s\n",
      "2:\tlearn: 0.6353082\ttotal: 2.55s\tremaining: 40s\n",
      "3:\tlearn: 0.6295977\ttotal: 3.3s\tremaining: 38s\n",
      "4:\tlearn: 0.6263402\ttotal: 4.07s\tremaining: 36.6s\n",
      "5:\tlearn: 0.6237199\ttotal: 4.75s\tremaining: 34.8s\n",
      "6:\tlearn: 0.6210758\ttotal: 5.43s\tremaining: 33.3s\n",
      "7:\tlearn: 0.6192929\ttotal: 6.21s\tremaining: 32.6s\n",
      "8:\tlearn: 0.6180612\ttotal: 6.88s\tremaining: 31.4s\n",
      "9:\tlearn: 0.6162802\ttotal: 7.6s\tremaining: 30.4s\n",
      "10:\tlearn: 0.6149208\ttotal: 8.38s\tremaining: 29.7s\n",
      "11:\tlearn: 0.6137866\ttotal: 9.14s\tremaining: 28.9s\n",
      "12:\tlearn: 0.6130562\ttotal: 9.89s\tremaining: 28.2s\n",
      "13:\tlearn: 0.6121478\ttotal: 10.7s\tremaining: 27.4s\n",
      "14:\tlearn: 0.6115452\ttotal: 11.4s\tremaining: 26.6s\n",
      "15:\tlearn: 0.6109270\ttotal: 12s\tremaining: 25.6s\n",
      "16:\tlearn: 0.6104388\ttotal: 12.8s\tremaining: 24.8s\n",
      "17:\tlearn: 0.6098069\ttotal: 13.6s\tremaining: 24.2s\n",
      "18:\tlearn: 0.6092572\ttotal: 14.4s\tremaining: 23.5s\n",
      "19:\tlearn: 0.6085981\ttotal: 15.2s\tremaining: 22.8s\n",
      "20:\tlearn: 0.6080868\ttotal: 15.9s\tremaining: 21.9s\n",
      "21:\tlearn: 0.6076392\ttotal: 16.7s\tremaining: 21.2s\n",
      "22:\tlearn: 0.6071406\ttotal: 17.5s\tremaining: 20.6s\n",
      "23:\tlearn: 0.6066743\ttotal: 18.2s\tremaining: 19.8s\n",
      "24:\tlearn: 0.6062452\ttotal: 18.9s\tremaining: 18.9s\n",
      "25:\tlearn: 0.6058208\ttotal: 19.5s\tremaining: 18s\n",
      "26:\tlearn: 0.6054393\ttotal: 20.2s\tremaining: 17.2s\n",
      "27:\tlearn: 0.6050956\ttotal: 21s\tremaining: 16.5s\n",
      "28:\tlearn: 0.6046234\ttotal: 21.7s\tremaining: 15.7s\n",
      "29:\tlearn: 0.6042977\ttotal: 22.3s\tremaining: 14.9s\n",
      "30:\tlearn: 0.6040329\ttotal: 23.1s\tremaining: 14.1s\n",
      "31:\tlearn: 0.6035803\ttotal: 23.8s\tremaining: 13.4s\n",
      "32:\tlearn: 0.6032278\ttotal: 24.5s\tremaining: 12.6s\n",
      "33:\tlearn: 0.6029214\ttotal: 25.3s\tremaining: 11.9s\n",
      "34:\tlearn: 0.6026074\ttotal: 26.1s\tremaining: 11.2s\n",
      "35:\tlearn: 0.6024087\ttotal: 26.8s\tremaining: 10.4s\n",
      "36:\tlearn: 0.6020874\ttotal: 27.7s\tremaining: 9.73s\n",
      "37:\tlearn: 0.6017629\ttotal: 28.4s\tremaining: 8.96s\n",
      "38:\tlearn: 0.6014685\ttotal: 29.1s\tremaining: 8.22s\n",
      "39:\tlearn: 0.6012913\ttotal: 29.8s\tremaining: 7.46s\n",
      "40:\tlearn: 0.6011143\ttotal: 30.8s\tremaining: 6.76s\n",
      "41:\tlearn: 0.6008890\ttotal: 31.6s\tremaining: 6.01s\n",
      "42:\tlearn: 0.6006092\ttotal: 32.3s\tremaining: 5.26s\n",
      "43:\tlearn: 0.6003560\ttotal: 33.1s\tremaining: 4.52s\n",
      "44:\tlearn: 0.6001568\ttotal: 34s\tremaining: 3.78s\n",
      "45:\tlearn: 0.5999184\ttotal: 34.7s\tremaining: 3.02s\n",
      "46:\tlearn: 0.5996799\ttotal: 35.5s\tremaining: 2.26s\n",
      "47:\tlearn: 0.5994844\ttotal: 36.3s\tremaining: 1.51s\n",
      "48:\tlearn: 0.5992953\ttotal: 37.1s\tremaining: 756ms\n",
      "49:\tlearn: 0.5990520\ttotal: 37.9s\tremaining: 0us\n"
     ]
    },
    {
     "ename": "ValueError",
     "evalue": "Input contains NaN.",
     "output_type": "error",
     "traceback": [
      "\u001b[1;31m---------------------------------------------------------------------------\u001b[0m",
      "\u001b[1;31mValueError\u001b[0m                                Traceback (most recent call last)",
      "Cell \u001b[1;32mIn[13], line 4\u001b[0m\n\u001b[0;32m      1\u001b[0m model \u001b[38;5;241m=\u001b[39m CatBoostClassifier(n_estimators\u001b[38;5;241m=\u001b[39m\u001b[38;5;241m50\u001b[39m, random_state\u001b[38;5;241m=\u001b[39m\u001b[38;5;241m0\u001b[39m, \u001b[38;5;241m*\u001b[39m\u001b[38;5;241m*\u001b[39mparams)\n\u001b[0;32m      2\u001b[0m model\u001b[38;5;241m.\u001b[39mfit(X_train, y_train)\n\u001b[1;32m----> 4\u001b[0m \u001b[43mevaluate\u001b[49m\u001b[43m(\u001b[49m\u001b[43mmodel\u001b[49m\u001b[43m,\u001b[49m\u001b[43m \u001b[49m\u001b[43mX_test\u001b[49m\u001b[43m,\u001b[49m\u001b[43m \u001b[49m\u001b[43my_test\u001b[49m\u001b[43m,\u001b[49m\u001b[43m \u001b[49m\u001b[38;5;124;43m'\u001b[39;49m\u001b[38;5;124;43mCatBoostClassifier\u001b[39;49m\u001b[38;5;124;43m'\u001b[39;49m\u001b[43m,\u001b[49m\u001b[43m \u001b[49m\u001b[43muse_proba\u001b[49m\u001b[38;5;241;43m=\u001b[39;49m\u001b[38;5;28;43;01mFalse\u001b[39;49;00m\u001b[43m)\u001b[49m\n\u001b[0;32m      5\u001b[0m evaluate(model, X_test, y_test, \u001b[38;5;124m'\u001b[39m\u001b[38;5;124mCatBoostClassifier\u001b[39m\u001b[38;5;124m'\u001b[39m, use_proba\u001b[38;5;241m=\u001b[39m\u001b[38;5;28;01mTrue\u001b[39;00m)\n",
      "Cell \u001b[1;32mIn[12], line 6\u001b[0m, in \u001b[0;36mevaluate\u001b[1;34m(model, X_test, y_test, model_name, use_proba)\u001b[0m\n\u001b[0;32m      4\u001b[0m \u001b[38;5;28;01melif\u001b[39;00m use_proba \u001b[38;5;241m==\u001b[39m \u001b[38;5;28;01mFalse\u001b[39;00m:\n\u001b[0;32m      5\u001b[0m     y_pred \u001b[38;5;241m=\u001b[39m  model\u001b[38;5;241m.\u001b[39mpredict(X_test)\n\u001b[1;32m----> 6\u001b[0m ndcg \u001b[38;5;241m=\u001b[39m \u001b[43mndcg_score\u001b[49m\u001b[43m(\u001b[49m\u001b[43my_test\u001b[49m\u001b[38;5;241;43m.\u001b[39;49m\u001b[43mvalues\u001b[49m\u001b[38;5;241;43m.\u001b[39;49m\u001b[43mreshape\u001b[49m\u001b[43m(\u001b[49m\u001b[38;5;241;43m1\u001b[39;49m\u001b[43m,\u001b[49m\u001b[43m \u001b[49m\u001b[38;5;241;43m-\u001b[39;49m\u001b[38;5;241;43m1\u001b[39;49m\u001b[43m)\u001b[49m\u001b[43m,\u001b[49m\u001b[43m \u001b[49m\u001b[43my_pred\u001b[49m\u001b[38;5;241;43m.\u001b[39;49m\u001b[43mreshape\u001b[49m\u001b[43m(\u001b[49m\u001b[38;5;241;43m1\u001b[39;49m\u001b[43m,\u001b[49m\u001b[43m \u001b[49m\u001b[38;5;241;43m-\u001b[39;49m\u001b[38;5;241;43m1\u001b[39;49m\u001b[43m)\u001b[49m\u001b[43m,\u001b[49m\u001b[43m \u001b[49m\u001b[43mk\u001b[49m\u001b[38;5;241;43m=\u001b[39;49m\u001b[38;5;241;43m20\u001b[39;49m\u001b[43m)\u001b[49m\n\u001b[0;32m      7\u001b[0m \u001b[38;5;28mprint\u001b[39m(\u001b[38;5;124mf\u001b[39m\u001b[38;5;124m'\u001b[39m\u001b[38;5;124mNDCG@\u001b[39m\u001b[38;5;132;01m{\u001b[39;00m\u001b[38;5;241m20\u001b[39m\u001b[38;5;132;01m}\u001b[39;00m\u001b[38;5;124m на тестовых данных c использованием \u001b[39m\u001b[38;5;132;01m{\u001b[39;00mmodel_name\u001b[38;5;132;01m}\u001b[39;00m\u001b[38;5;124m: \u001b[39m\u001b[38;5;132;01m{\u001b[39;00mndcg\u001b[38;5;132;01m}\u001b[39;00m\u001b[38;5;124m'\u001b[39m)\n",
      "File \u001b[1;32mD:\\FOR STADY\\python\\VK_RS_relevant_tracks\\venv\\Lib\\site-packages\\sklearn\\utils\\_param_validation.py:213\u001b[0m, in \u001b[0;36mvalidate_params.<locals>.decorator.<locals>.wrapper\u001b[1;34m(*args, **kwargs)\u001b[0m\n\u001b[0;32m    207\u001b[0m \u001b[38;5;28;01mtry\u001b[39;00m:\n\u001b[0;32m    208\u001b[0m     \u001b[38;5;28;01mwith\u001b[39;00m config_context(\n\u001b[0;32m    209\u001b[0m         skip_parameter_validation\u001b[38;5;241m=\u001b[39m(\n\u001b[0;32m    210\u001b[0m             prefer_skip_nested_validation \u001b[38;5;129;01mor\u001b[39;00m global_skip_validation\n\u001b[0;32m    211\u001b[0m         )\n\u001b[0;32m    212\u001b[0m     ):\n\u001b[1;32m--> 213\u001b[0m         \u001b[38;5;28;01mreturn\u001b[39;00m \u001b[43mfunc\u001b[49m\u001b[43m(\u001b[49m\u001b[38;5;241;43m*\u001b[39;49m\u001b[43margs\u001b[49m\u001b[43m,\u001b[49m\u001b[43m \u001b[49m\u001b[38;5;241;43m*\u001b[39;49m\u001b[38;5;241;43m*\u001b[39;49m\u001b[43mkwargs\u001b[49m\u001b[43m)\u001b[49m\n\u001b[0;32m    214\u001b[0m \u001b[38;5;28;01mexcept\u001b[39;00m InvalidParameterError \u001b[38;5;28;01mas\u001b[39;00m e:\n\u001b[0;32m    215\u001b[0m     \u001b[38;5;66;03m# When the function is just a wrapper around an estimator, we allow\u001b[39;00m\n\u001b[0;32m    216\u001b[0m     \u001b[38;5;66;03m# the function to delegate validation to the estimator, but we replace\u001b[39;00m\n\u001b[0;32m    217\u001b[0m     \u001b[38;5;66;03m# the name of the estimator by the name of the function in the error\u001b[39;00m\n\u001b[0;32m    218\u001b[0m     \u001b[38;5;66;03m# message to avoid confusion.\u001b[39;00m\n\u001b[0;32m    219\u001b[0m     msg \u001b[38;5;241m=\u001b[39m re\u001b[38;5;241m.\u001b[39msub(\n\u001b[0;32m    220\u001b[0m         \u001b[38;5;124mr\u001b[39m\u001b[38;5;124m\"\u001b[39m\u001b[38;5;124mparameter of \u001b[39m\u001b[38;5;124m\\\u001b[39m\u001b[38;5;124mw+ must be\u001b[39m\u001b[38;5;124m\"\u001b[39m,\n\u001b[0;32m    221\u001b[0m         \u001b[38;5;124mf\u001b[39m\u001b[38;5;124m\"\u001b[39m\u001b[38;5;124mparameter of \u001b[39m\u001b[38;5;132;01m{\u001b[39;00mfunc\u001b[38;5;241m.\u001b[39m\u001b[38;5;18m__qualname__\u001b[39m\u001b[38;5;132;01m}\u001b[39;00m\u001b[38;5;124m must be\u001b[39m\u001b[38;5;124m\"\u001b[39m,\n\u001b[0;32m    222\u001b[0m         \u001b[38;5;28mstr\u001b[39m(e),\n\u001b[0;32m    223\u001b[0m     )\n",
      "File \u001b[1;32mD:\\FOR STADY\\python\\VK_RS_relevant_tracks\\venv\\Lib\\site-packages\\sklearn\\metrics\\_ranking.py:1827\u001b[0m, in \u001b[0;36mndcg_score\u001b[1;34m(y_true, y_score, k, sample_weight, ignore_ties)\u001b[0m\n\u001b[0;32m   1723\u001b[0m \u001b[38;5;129m@validate_params\u001b[39m(\n\u001b[0;32m   1724\u001b[0m     {\n\u001b[0;32m   1725\u001b[0m         \u001b[38;5;124m\"\u001b[39m\u001b[38;5;124my_true\u001b[39m\u001b[38;5;124m\"\u001b[39m: [\u001b[38;5;124m\"\u001b[39m\u001b[38;5;124marray-like\u001b[39m\u001b[38;5;124m\"\u001b[39m],\n\u001b[1;32m   (...)\u001b[0m\n\u001b[0;32m   1732\u001b[0m )\n\u001b[0;32m   1733\u001b[0m \u001b[38;5;28;01mdef\u001b[39;00m \u001b[38;5;21mndcg_score\u001b[39m(y_true, y_score, \u001b[38;5;241m*\u001b[39m, k\u001b[38;5;241m=\u001b[39m\u001b[38;5;28;01mNone\u001b[39;00m, sample_weight\u001b[38;5;241m=\u001b[39m\u001b[38;5;28;01mNone\u001b[39;00m, ignore_ties\u001b[38;5;241m=\u001b[39m\u001b[38;5;28;01mFalse\u001b[39;00m):\n\u001b[0;32m   1734\u001b[0m \u001b[38;5;250m    \u001b[39m\u001b[38;5;124;03m\"\"\"Compute Normalized Discounted Cumulative Gain.\u001b[39;00m\n\u001b[0;32m   1735\u001b[0m \n\u001b[0;32m   1736\u001b[0m \u001b[38;5;124;03m    Sum the true scores ranked in the order induced by the predicted scores,\u001b[39;00m\n\u001b[1;32m   (...)\u001b[0m\n\u001b[0;32m   1825\u001b[0m \u001b[38;5;124;03m    0.5...\u001b[39;00m\n\u001b[0;32m   1826\u001b[0m \u001b[38;5;124;03m    \"\"\"\u001b[39;00m\n\u001b[1;32m-> 1827\u001b[0m     y_true \u001b[38;5;241m=\u001b[39m \u001b[43mcheck_array\u001b[49m\u001b[43m(\u001b[49m\u001b[43my_true\u001b[49m\u001b[43m,\u001b[49m\u001b[43m \u001b[49m\u001b[43mensure_2d\u001b[49m\u001b[38;5;241;43m=\u001b[39;49m\u001b[38;5;28;43;01mFalse\u001b[39;49;00m\u001b[43m)\u001b[49m\n\u001b[0;32m   1828\u001b[0m     y_score \u001b[38;5;241m=\u001b[39m check_array(y_score, ensure_2d\u001b[38;5;241m=\u001b[39m\u001b[38;5;28;01mFalse\u001b[39;00m)\n\u001b[0;32m   1829\u001b[0m     check_consistent_length(y_true, y_score, sample_weight)\n",
      "File \u001b[1;32mD:\\FOR STADY\\python\\VK_RS_relevant_tracks\\venv\\Lib\\site-packages\\sklearn\\utils\\validation.py:1049\u001b[0m, in \u001b[0;36mcheck_array\u001b[1;34m(array, accept_sparse, accept_large_sparse, dtype, order, copy, force_all_finite, ensure_2d, allow_nd, ensure_min_samples, ensure_min_features, estimator, input_name)\u001b[0m\n\u001b[0;32m   1043\u001b[0m     \u001b[38;5;28;01mraise\u001b[39;00m \u001b[38;5;167;01mValueError\u001b[39;00m(\n\u001b[0;32m   1044\u001b[0m         \u001b[38;5;124m\"\u001b[39m\u001b[38;5;124mFound array with dim \u001b[39m\u001b[38;5;132;01m%d\u001b[39;00m\u001b[38;5;124m. \u001b[39m\u001b[38;5;132;01m%s\u001b[39;00m\u001b[38;5;124m expected <= 2.\u001b[39m\u001b[38;5;124m\"\u001b[39m\n\u001b[0;32m   1045\u001b[0m         \u001b[38;5;241m%\u001b[39m (array\u001b[38;5;241m.\u001b[39mndim, estimator_name)\n\u001b[0;32m   1046\u001b[0m     )\n\u001b[0;32m   1048\u001b[0m \u001b[38;5;28;01mif\u001b[39;00m force_all_finite:\n\u001b[1;32m-> 1049\u001b[0m     \u001b[43m_assert_all_finite\u001b[49m\u001b[43m(\u001b[49m\n\u001b[0;32m   1050\u001b[0m \u001b[43m        \u001b[49m\u001b[43marray\u001b[49m\u001b[43m,\u001b[49m\n\u001b[0;32m   1051\u001b[0m \u001b[43m        \u001b[49m\u001b[43minput_name\u001b[49m\u001b[38;5;241;43m=\u001b[39;49m\u001b[43minput_name\u001b[49m\u001b[43m,\u001b[49m\n\u001b[0;32m   1052\u001b[0m \u001b[43m        \u001b[49m\u001b[43mestimator_name\u001b[49m\u001b[38;5;241;43m=\u001b[39;49m\u001b[43mestimator_name\u001b[49m\u001b[43m,\u001b[49m\n\u001b[0;32m   1053\u001b[0m \u001b[43m        \u001b[49m\u001b[43mallow_nan\u001b[49m\u001b[38;5;241;43m=\u001b[39;49m\u001b[43mforce_all_finite\u001b[49m\u001b[43m \u001b[49m\u001b[38;5;241;43m==\u001b[39;49m\u001b[43m \u001b[49m\u001b[38;5;124;43m\"\u001b[39;49m\u001b[38;5;124;43mallow-nan\u001b[39;49m\u001b[38;5;124;43m\"\u001b[39;49m\u001b[43m,\u001b[49m\n\u001b[0;32m   1054\u001b[0m \u001b[43m    \u001b[49m\u001b[43m)\u001b[49m\n\u001b[0;32m   1056\u001b[0m \u001b[38;5;28;01mif\u001b[39;00m copy:\n\u001b[0;32m   1057\u001b[0m     \u001b[38;5;28;01mif\u001b[39;00m _is_numpy_namespace(xp):\n\u001b[0;32m   1058\u001b[0m         \u001b[38;5;66;03m# only make a copy if `array` and `array_orig` may share memory`\u001b[39;00m\n",
      "File \u001b[1;32mD:\\FOR STADY\\python\\VK_RS_relevant_tracks\\venv\\Lib\\site-packages\\sklearn\\utils\\validation.py:126\u001b[0m, in \u001b[0;36m_assert_all_finite\u001b[1;34m(X, allow_nan, msg_dtype, estimator_name, input_name)\u001b[0m\n\u001b[0;32m    123\u001b[0m \u001b[38;5;28;01mif\u001b[39;00m first_pass_isfinite:\n\u001b[0;32m    124\u001b[0m     \u001b[38;5;28;01mreturn\u001b[39;00m\n\u001b[1;32m--> 126\u001b[0m \u001b[43m_assert_all_finite_element_wise\u001b[49m\u001b[43m(\u001b[49m\n\u001b[0;32m    127\u001b[0m \u001b[43m    \u001b[49m\u001b[43mX\u001b[49m\u001b[43m,\u001b[49m\n\u001b[0;32m    128\u001b[0m \u001b[43m    \u001b[49m\u001b[43mxp\u001b[49m\u001b[38;5;241;43m=\u001b[39;49m\u001b[43mxp\u001b[49m\u001b[43m,\u001b[49m\n\u001b[0;32m    129\u001b[0m \u001b[43m    \u001b[49m\u001b[43mallow_nan\u001b[49m\u001b[38;5;241;43m=\u001b[39;49m\u001b[43mallow_nan\u001b[49m\u001b[43m,\u001b[49m\n\u001b[0;32m    130\u001b[0m \u001b[43m    \u001b[49m\u001b[43mmsg_dtype\u001b[49m\u001b[38;5;241;43m=\u001b[39;49m\u001b[43mmsg_dtype\u001b[49m\u001b[43m,\u001b[49m\n\u001b[0;32m    131\u001b[0m \u001b[43m    \u001b[49m\u001b[43mestimator_name\u001b[49m\u001b[38;5;241;43m=\u001b[39;49m\u001b[43mestimator_name\u001b[49m\u001b[43m,\u001b[49m\n\u001b[0;32m    132\u001b[0m \u001b[43m    \u001b[49m\u001b[43minput_name\u001b[49m\u001b[38;5;241;43m=\u001b[39;49m\u001b[43minput_name\u001b[49m\u001b[43m,\u001b[49m\n\u001b[0;32m    133\u001b[0m \u001b[43m\u001b[49m\u001b[43m)\u001b[49m\n",
      "File \u001b[1;32mD:\\FOR STADY\\python\\VK_RS_relevant_tracks\\venv\\Lib\\site-packages\\sklearn\\utils\\validation.py:175\u001b[0m, in \u001b[0;36m_assert_all_finite_element_wise\u001b[1;34m(X, xp, allow_nan, msg_dtype, estimator_name, input_name)\u001b[0m\n\u001b[0;32m    158\u001b[0m \u001b[38;5;28;01mif\u001b[39;00m estimator_name \u001b[38;5;129;01mand\u001b[39;00m input_name \u001b[38;5;241m==\u001b[39m \u001b[38;5;124m\"\u001b[39m\u001b[38;5;124mX\u001b[39m\u001b[38;5;124m\"\u001b[39m \u001b[38;5;129;01mand\u001b[39;00m has_nan_error:\n\u001b[0;32m    159\u001b[0m     \u001b[38;5;66;03m# Improve the error message on how to handle missing values in\u001b[39;00m\n\u001b[0;32m    160\u001b[0m     \u001b[38;5;66;03m# scikit-learn.\u001b[39;00m\n\u001b[0;32m    161\u001b[0m     msg_err \u001b[38;5;241m+\u001b[39m\u001b[38;5;241m=\u001b[39m (\n\u001b[0;32m    162\u001b[0m         \u001b[38;5;124mf\u001b[39m\u001b[38;5;124m\"\u001b[39m\u001b[38;5;130;01m\\n\u001b[39;00m\u001b[38;5;132;01m{\u001b[39;00mestimator_name\u001b[38;5;132;01m}\u001b[39;00m\u001b[38;5;124m does not accept missing values\u001b[39m\u001b[38;5;124m\"\u001b[39m\n\u001b[0;32m    163\u001b[0m         \u001b[38;5;124m\"\u001b[39m\u001b[38;5;124m encoded as NaN natively. For supervised learning, you might want\u001b[39m\u001b[38;5;124m\"\u001b[39m\n\u001b[1;32m   (...)\u001b[0m\n\u001b[0;32m    173\u001b[0m         \u001b[38;5;124m\"\u001b[39m\u001b[38;5;124m#estimators-that-handle-nan-values\u001b[39m\u001b[38;5;124m\"\u001b[39m\n\u001b[0;32m    174\u001b[0m     )\n\u001b[1;32m--> 175\u001b[0m \u001b[38;5;28;01mraise\u001b[39;00m \u001b[38;5;167;01mValueError\u001b[39;00m(msg_err)\n",
      "\u001b[1;31mValueError\u001b[0m: Input contains NaN."
     ]
    }
   ],
   "source": [
    "model = CatBoostClassifier(n_estimators=50, random_state=0, **params)\n",
    "model.fit(X_train, y_train)\n",
    "\n",
    "evaluate(model, X_test, y_test, 'CatBoostClassifier', use_proba=False)\n",
    "evaluate(model, X_test, y_test, 'CatBoostClassifier', use_proba=True)"
   ]
  },
  {
   "cell_type": "code",
   "execution_count": null,
   "id": "76a51f7b-0aa1-4622-8d0c-1db7c470f9af",
   "metadata": {},
   "outputs": [],
   "source": []
  }
 ],
 "metadata": {
  "kernelspec": {
   "display_name": "Python 3 (ipykernel)",
   "language": "python",
   "name": "python3"
  },
  "language_info": {
   "codemirror_mode": {
    "name": "ipython",
    "version": 3
   },
   "file_extension": ".py",
   "mimetype": "text/x-python",
   "name": "python",
   "nbconvert_exporter": "python",
   "pygments_lexer": "ipython3",
   "version": "3.11.5"
  }
 },
 "nbformat": 4,
 "nbformat_minor": 5
}
