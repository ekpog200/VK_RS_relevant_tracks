{
 "cells": [
  {
   "cell_type": "code",
   "execution_count": 1,
   "id": "613cc0e8-526d-477d-8f82-c79182138dff",
   "metadata": {},
   "outputs": [],
   "source": [
    "import nbimporter\n",
    "from pathlib import Path\n",
    "import pandas as pd\n",
    "from catboost import CatBoostClassifier, Pool\n",
    "from sklearn.metrics import ndcg_score\n",
    "from sklearn.model_selection import train_test_split\n",
    "\n",
    "from Preprop import * # load the data_preprocess function\n",
    "from Feature_En import * # load the feature_generating function"
   ]
  },
  {
   "cell_type": "code",
   "execution_count": 2,
   "id": "f8c3862d-e777-40e2-aca7-640116548fde",
   "metadata": {},
   "outputs": [],
   "source": [
    "d_path = 'datas'\n",
    "params = {'depth': 10.0, \n",
    "        'l2_leaf_reg': 5.555897323622429, \n",
    "        'learning_rate': 0.4359843989797999, \n",
    "        'loss_function': 'Logloss', \n",
    "        'max_bin': 50.0, \n",
    "        'random_strength': 0.009790073389282446\n",
    "}"
   ]
  },
  {
   "cell_type": "code",
   "execution_count": 3,
   "id": "e52ef8d8-d2a5-498b-98ec-cdd90e840f53",
   "metadata": {},
   "outputs": [],
   "source": [
    "def evaluate(model, X_test, y_test, model_name, use_proba=True):\n",
    "    if use_proba == True:\n",
    "        y_pred = model.predict_proba(X_test)[:, 1]\n",
    "    elif use_proba == False:\n",
    "        y_pred =  model.predict(X_test)\n",
    "    ndcg = ndcg_score(y_test.values.reshape(1, -1), y_pred.reshape(1, -1), k=20)\n",
    "    print(f'NDCG@{20} на тестовых данных c использованием {model_name}: {ndcg}')"
   ]
  },
  {
   "cell_type": "code",
   "execution_count": 4,
   "id": "41da3ca7-a3d1-4d80-98ba-d006aca4aaf2",
   "metadata": {},
   "outputs": [
    {
     "name": "stderr",
     "output_type": "stream",
     "text": [
      "D:\\FOR STADY\\python\\VK_RS_relevant_tracks\\venv\\Lib\\site-packages\\feature_engine\\encoding\\rare_label.py:216: UserWarning: The number of unique categories for variable x1 is less than that indicated in n_categories. Thus, all categories will be considered frequent\n",
      "  warnings.warn(\n",
      "D:\\FOR STADY\\python\\VK_RS_relevant_tracks\\venv\\Lib\\site-packages\\feature_engine\\encoding\\rare_label.py:216: UserWarning: The number of unique categories for variable x4 is less than that indicated in n_categories. Thus, all categories will be considered frequent\n",
      "  warnings.warn(\n"
     ]
    }
   ],
   "source": [
    "df = data_preprocess(d_path, use_test=True)"
   ]
  },
  {
   "cell_type": "code",
   "execution_count": 5,
   "id": "70b0b94e-e349-4c4b-8c21-a4c2744f7429",
   "metadata": {
    "scrolled": true
   },
   "outputs": [
    {
     "name": "stderr",
     "output_type": "stream",
     "text": [
      "Feature_En.ipynb:42: SettingWithCopyWarning: \n",
      "A value is trying to be set on a copy of a slice from a DataFrame.\n",
      "Try using .loc[row_indexer,col_indexer] = value instead\n",
      "\n",
      "See the caveats in the documentation: https://pandas.pydata.org/pandas-docs/stable/user_guide/indexing.html#returning-a-view-versus-a-copy\n",
      "  \"            dataframes_profile.loc[:, item + '_' + featur + '_std'] = dataset.groupby(item)[featur].transform('std')\\n\",\n",
      "Feature_En.ipynb:43: SettingWithCopyWarning: \n",
      "A value is trying to be set on a copy of a slice from a DataFrame.\n",
      "Try using .loc[row_indexer,col_indexer] = value instead\n",
      "\n",
      "See the caveats in the documentation: https://pandas.pydata.org/pandas-docs/stable/user_guide/indexing.html#returning-a-view-versus-a-copy\n",
      "  \"        for featur in category_vars:\\n\",\n",
      "Feature_En.ipynb:52: SettingWithCopyWarning: \n",
      "A value is trying to be set on a copy of a slice from a DataFrame.\n",
      "Try using .loc[row_indexer,col_indexer] = value instead\n",
      "\n",
      "See the caveats in the documentation: https://pandas.pydata.org/pandas-docs/stable/user_guide/indexing.html#returning-a-view-versus-a-copy\n",
      "  \"    item = 'msno'\\n\",\n",
      "Feature_En.ipynb:53: SettingWithCopyWarning: \n",
      "A value is trying to be set on a copy of a slice from a DataFrame.\n",
      "Try using .loc[row_indexer,col_indexer] = value instead\n",
      "\n",
      "See the caveats in the documentation: https://pandas.pydata.org/pandas-docs/stable/user_guide/indexing.html#returning-a-view-versus-a-copy\n",
      "  \"    continuous_vars = ['song_length']\\n\",\n",
      "Feature_En.ipynb:54: SettingWithCopyWarning: \n",
      "A value is trying to be set on a copy of a slice from a DataFrame.\n",
      "Try using .loc[row_indexer,col_indexer] = value instead\n",
      "\n",
      "See the caveats in the documentation: https://pandas.pydata.org/pandas-docs/stable/user_guide/indexing.html#returning-a-view-versus-a-copy\n",
      "  \"    category_vars = ['genre_ids', 'language', 'registered_via', 'source_screen_name', 'source_system_tab', 'source_type']\\n\",\n"
     ]
    }
   ],
   "source": [
    "df = generate_features(df)"
   ]
  },
  {
   "cell_type": "markdown",
   "id": "9d1259bf-8f0c-4e60-a0b1-3c29249bef2d",
   "metadata": {},
   "source": [
    "Выделяем индексы для тестовой и тренировочной выборки"
   ]
  },
  {
   "cell_type": "code",
   "execution_count": 6,
   "id": "9b6f4d0c-d8c0-4fbc-b985-aec4a4a3d9c5",
   "metadata": {},
   "outputs": [],
   "source": [
    "df = df.loc[:, df.columns[3:]]\n",
    "train_ind = df['target'][~pd.isnull(df['target'])].index\n",
    "test_ind = df['target'][pd.isnull(df['target'])].index"
   ]
  },
  {
   "cell_type": "markdown",
   "id": "6b831a9b-1eea-47f3-bb08-8ec3025fc7fe",
   "metadata": {},
   "source": [
    "Разбиение с помощью train_test_split на валидационную 33% и тренировочную выборку"
   ]
  },
  {
   "cell_type": "code",
   "execution_count": 7,
   "id": "884d9919-13ea-4513-b832-4b5eb37cc90c",
   "metadata": {},
   "outputs": [],
   "source": [
    "X = df.drop('target', axis=1).loc[train_ind] # Х без тестовой\n",
    "y = df['target'][train_ind] # Y без тестовой\n",
    "\n",
    "X_train, X_val, y_train, y_val = train_test_split(X, y, test_size=0.33, random_state=42)\n",
    "\n",
    "# X_test = df.drop('target', axis=1).loc[test_ind].reset_index(drop=True)\n",
    "# y_test = df['target'][test_ind]"
   ]
  },
  {
   "cell_type": "code",
   "execution_count": 8,
   "id": "19ed2ba1-e6c7-45ca-a9ea-46facc1adf82",
   "metadata": {
    "scrolled": true
   },
   "outputs": [],
   "source": [
    "# print(y_train)\n",
    "\n",
    "# print(y_val)"
   ]
  },
  {
   "cell_type": "markdown",
   "id": "af64b2cb-97ac-4fdd-8cb2-5eac3b856dbe",
   "metadata": {},
   "source": [
    "Используя CatBoostClassifier обучаем модель и после получаем предикт с метрикой ndcg@20"
   ]
  },
  {
   "cell_type": "code",
   "execution_count": 9,
   "id": "4cd6b33b-3045-4c35-b4dc-dc834ba80c24",
   "metadata": {
    "scrolled": true
   },
   "outputs": [
    {
     "name": "stdout",
     "output_type": "stream",
     "text": [
      "0:\tlearn: 0.6443354\ttotal: 2.18s\tremaining: 1m 46s\n",
      "1:\tlearn: 0.6254944\ttotal: 4.12s\tremaining: 1m 38s\n",
      "2:\tlearn: 0.6175922\ttotal: 6s\tremaining: 1m 34s\n",
      "3:\tlearn: 0.6133292\ttotal: 7.94s\tremaining: 1m 31s\n",
      "4:\tlearn: 0.6104058\ttotal: 10s\tremaining: 1m 30s\n",
      "5:\tlearn: 0.6074851\ttotal: 12s\tremaining: 1m 28s\n",
      "6:\tlearn: 0.6052777\ttotal: 13.9s\tremaining: 1m 25s\n",
      "7:\tlearn: 0.6034109\ttotal: 16s\tremaining: 1m 24s\n",
      "8:\tlearn: 0.6021282\ttotal: 18s\tremaining: 1m 21s\n",
      "9:\tlearn: 0.6009218\ttotal: 19.9s\tremaining: 1m 19s\n",
      "10:\tlearn: 0.5992748\ttotal: 22s\tremaining: 1m 17s\n",
      "11:\tlearn: 0.5980221\ttotal: 24.1s\tremaining: 1m 16s\n",
      "12:\tlearn: 0.5970893\ttotal: 26.1s\tremaining: 1m 14s\n",
      "13:\tlearn: 0.5961507\ttotal: 28.1s\tremaining: 1m 12s\n",
      "14:\tlearn: 0.5948886\ttotal: 30.3s\tremaining: 1m 10s\n",
      "15:\tlearn: 0.5939868\ttotal: 32.4s\tremaining: 1m 8s\n",
      "16:\tlearn: 0.5929240\ttotal: 34.5s\tremaining: 1m 6s\n",
      "17:\tlearn: 0.5918373\ttotal: 36.8s\tremaining: 1m 5s\n",
      "18:\tlearn: 0.5909980\ttotal: 39s\tremaining: 1m 3s\n",
      "19:\tlearn: 0.5898931\ttotal: 41.2s\tremaining: 1m 1s\n",
      "20:\tlearn: 0.5877475\ttotal: 43.6s\tremaining: 1m\n",
      "21:\tlearn: 0.5871711\ttotal: 45.8s\tremaining: 58.3s\n",
      "22:\tlearn: 0.5864006\ttotal: 47.9s\tremaining: 56.2s\n",
      "23:\tlearn: 0.5857087\ttotal: 50.1s\tremaining: 54.3s\n",
      "24:\tlearn: 0.5850050\ttotal: 52.4s\tremaining: 52.4s\n",
      "25:\tlearn: 0.5845014\ttotal: 54.6s\tremaining: 50.4s\n",
      "26:\tlearn: 0.5836573\ttotal: 57s\tremaining: 48.5s\n",
      "27:\tlearn: 0.5828201\ttotal: 59.1s\tremaining: 46.5s\n",
      "28:\tlearn: 0.5820738\ttotal: 1m 1s\tremaining: 44.5s\n",
      "29:\tlearn: 0.5813905\ttotal: 1m 3s\tremaining: 42.5s\n",
      "30:\tlearn: 0.5805874\ttotal: 1m 6s\tremaining: 40.5s\n",
      "31:\tlearn: 0.5800422\ttotal: 1m 8s\tremaining: 38.4s\n",
      "32:\tlearn: 0.5795228\ttotal: 1m 10s\tremaining: 36.3s\n",
      "33:\tlearn: 0.5789416\ttotal: 1m 12s\tremaining: 34.2s\n",
      "34:\tlearn: 0.5782905\ttotal: 1m 15s\tremaining: 32.2s\n",
      "35:\tlearn: 0.5774389\ttotal: 1m 17s\tremaining: 30.1s\n",
      "36:\tlearn: 0.5770355\ttotal: 1m 19s\tremaining: 28s\n",
      "37:\tlearn: 0.5766206\ttotal: 1m 21s\tremaining: 25.8s\n",
      "38:\tlearn: 0.5762067\ttotal: 1m 24s\tremaining: 23.7s\n",
      "39:\tlearn: 0.5757059\ttotal: 1m 26s\tremaining: 21.6s\n",
      "40:\tlearn: 0.5751738\ttotal: 1m 28s\tremaining: 19.4s\n",
      "41:\tlearn: 0.5746912\ttotal: 1m 30s\tremaining: 17.3s\n",
      "42:\tlearn: 0.5738656\ttotal: 1m 32s\tremaining: 15.1s\n",
      "43:\tlearn: 0.5730974\ttotal: 1m 35s\tremaining: 13s\n",
      "44:\tlearn: 0.5725242\ttotal: 1m 37s\tremaining: 10.8s\n",
      "45:\tlearn: 0.5721702\ttotal: 1m 39s\tremaining: 8.66s\n",
      "46:\tlearn: 0.5716338\ttotal: 1m 41s\tremaining: 6.51s\n",
      "47:\tlearn: 0.5711219\ttotal: 1m 44s\tremaining: 4.34s\n",
      "48:\tlearn: 0.5704792\ttotal: 1m 46s\tremaining: 2.17s\n",
      "49:\tlearn: 0.5700339\ttotal: 1m 48s\tremaining: 0us\n",
      "NDCG@20 на тестовых данных c использованием CatBoostClassifier: 0.705501188394323\n",
      "NDCG@20 на тестовых данных c использованием CatBoostClassifier: 0.9494043170253827\n"
     ]
    }
   ],
   "source": [
    "model = CatBoostClassifier(n_estimators=50, random_state=0, **params)\n",
    "model.fit(X_train, y_train)\n",
    "\n",
    "evaluate(model, X_val, y_val, 'CatBoostClassifier', use_proba=False)\n",
    "evaluate(model, X_val, y_val, 'CatBoostClassifier', use_proba=True)"
   ]
  },
  {
   "cell_type": "markdown",
   "id": "775a8159-ae2e-415c-b2de-93026468d9b8",
   "metadata": {},
   "source": [
    "Конечная оценка при валидации в 33% от исходной выборки = 0.705501188394323"
   ]
  }
 ],
 "metadata": {
  "kernelspec": {
   "display_name": "Python 3 (ipykernel)",
   "language": "python",
   "name": "python3"
  },
  "language_info": {
   "codemirror_mode": {
    "name": "ipython",
    "version": 3
   },
   "file_extension": ".py",
   "mimetype": "text/x-python",
   "name": "python",
   "nbconvert_exporter": "python",
   "pygments_lexer": "ipython3",
   "version": "3.11.5"
  }
 },
 "nbformat": 4,
 "nbformat_minor": 5
}
