{
 "cells": [
  {
   "cell_type": "code",
   "execution_count": 1,
   "id": "873b53fb-df8b-4d52-a4d7-3022b8e5833e",
   "metadata": {},
   "outputs": [],
   "source": [
    "import nbimporter\n",
    "from pathlib import Path\n",
    "import pandas as pd\n",
    "import numpy as np\n",
    "from sklearn.impute import SimpleImputer\n",
    "from feature_engine.encoding import RareLabelEncoder\n",
    "from sklearn.preprocessing import OrdinalEncoder\n",
    "from sklearn.compose import ColumnTransformer\n",
    "from sklearn.pipeline import make_pipeline"
   ]
  },
  {
   "cell_type": "code",
   "execution_count": 2,
   "id": "755590f2-a32d-410d-8e78-aa444971cb88",
   "metadata": {},
   "outputs": [],
   "source": [
    "def cat_convertor(x, to_type='object'):\n",
    "    '''\n",
    "    Преобразование данных столбца из типа object в категориальный тип\n",
    "    '''\n",
    "    x = x.astype(str)\n",
    "    x[x=='nan'] = np.nan\n",
    "    return x.astype(to_type)"
   ]
  },
  {
   "cell_type": "code",
   "execution_count": 3,
   "id": "c8b13b7c-8793-442b-b4d1-3f595b4e9c39",
   "metadata": {},
   "outputs": [],
   "source": [
    "def data_preprocess(data_path, use_test=False):\n",
    "    '''\n",
    "    Обработка данных: замена пропусков, кодирование редких значений, преобразование категорий\n",
    "    Args:\n",
    "        data_path: путь к файлам данных\n",
    "        use_test: нужно ли включить тестовые данные в обработку\n",
    "    Return: pandas.DataFrame с обработанными данными\n",
    "    '''\n",
    "    # Загрузка данных\n",
    "    df = pd.read_csv(Path(data_path)/'train.csv')\n",
    "    if use_test:\n",
    "        df_test = pd.read_csv(Path(data_path)/'test.csv')\n",
    "        df = pd.concat((df, df_test.drop('id', axis=1)), axis=0).reset_index(drop=True)\n",
    "    df_members = pd.read_csv(Path(data_path)/'members.csv')\n",
    "    df_songs = pd.read_csv(Path(data_path)/'songs.csv')\n",
    "    \n",
    "    # Обработка данных о пользователях\n",
    "    df_members[['city', 'registered_via']] = df_members[['city', 'registered_via']].apply(cat_convertor)\n",
    "    df_members.loc[(df_members['bd'] < 15) | (df_members['bd']>80), 'bd'] = np.nan\n",
    "    df_members[['registration_init_time', 'expiration_date']] = df_members[['registration_init_time', 'expiration_date']].\\\n",
    "            apply(lambda x: pd.to_datetime(x, format='%Y%m%d'))\n",
    "    date_min = df_members['registration_init_time'].min()\n",
    "    df_members[['registration_init_time', 'expiration_date']] = df_members[['registration_init_time', 'expiration_date']].\\\n",
    "            apply(lambda x: (x-date_min).dt.days.astype('int32'))\n",
    "    df_members['register_period'] = df_members['expiration_date'] - df_members['registration_init_time']\n",
    "\n",
    "    #Обработка данных о песнях\n",
    "    df_songs[['language']] = df_songs[['language']].apply(cat_convertor)\n",
    "    df_songs['genre_ids'] = df_songs['genre_ids'].str.extract('^([^\\\\|]+)\\\\|*?')\n",
    "    df_songs['artist_name'] = df_songs['artist_name'].str.extract('^([^\\\\|]+)\\\\|*?')\n",
    "\n",
    "    #Объединение данных пользователя и песни\n",
    "    df = df.merge(df_members, how='left', on='msno')\n",
    "    df = df.merge(df_songs[['song_id', 'artist_name', 'song_length', 'genre_ids', 'language']], how='left', on='song_id')\n",
    "    df['artist_name'] = df['artist_name'].fillna('others')\n",
    "    \n",
    "    # переводим в float32 для экономии памяти (из inv64 или float64)\n",
    "    for col in df.columns: \n",
    "        if df[col].dtypes=='object':\n",
    "            df[col] = df[col].astype('object')\n",
    "        elif df[col].dtypes=='int64':\n",
    "            df[col] = df[col].astype('int32')\n",
    "        elif df[col].dtypes=='float64':\n",
    "            df[col] = df[col].astype('float32')\n",
    "\n",
    "    # Замена пропусков и кодирование\n",
    "    fea_cat = np.setdiff1d(df.dtypes[df.dtypes == 'object'].index, ['msno', 'song_id', 'artist_name'])\n",
    "    fea_con = np.setdiff1d(df.dtypes[df.dtypes != 'object'].index, ['target'])\n",
    "    enc = ColumnTransformer([\n",
    "        ('cat', make_pipeline(SimpleImputer(strategy='constant', fill_value='others'),\n",
    "                              RareLabelEncoder(tol=1e-4, n_categories=7),\n",
    "                              OrdinalEncoder(handle_unknown='use_encoded_value', unknown_value=999)), fea_cat),\n",
    "        ('con', SimpleImputer(strategy='mean'), fea_con)\n",
    "    ])\n",
    "    data = enc.fit_transform(df)\n",
    "    df = pd.concat((df[['msno', 'song_id', 'artist_name', 'target']], pd.DataFrame(data)), axis=1)\n",
    "    df.columns = np.concatenate((['msno', 'song_id', 'artist_name', 'target'], fea_cat, fea_con))\n",
    "    df[fea_cat] = df[fea_cat].astype('int32')\n",
    "    df[fea_con] = df[fea_con].astype('float32')\n",
    "    \n",
    "    return df"
   ]
  },
  {
   "cell_type": "code",
   "execution_count": null,
   "id": "06aaf520-ced2-467c-ba48-34eeb1dded50",
   "metadata": {},
   "outputs": [],
   "source": []
  }
 ],
 "metadata": {
  "kernelspec": {
   "display_name": "Python 3 (ipykernel)",
   "language": "python",
   "name": "python3"
  },
  "language_info": {
   "codemirror_mode": {
    "name": "ipython",
    "version": 3
   },
   "file_extension": ".py",
   "mimetype": "text/x-python",
   "name": "python",
   "nbconvert_exporter": "python",
   "pygments_lexer": "ipython3",
   "version": "3.11.5"
  }
 },
 "nbformat": 4,
 "nbformat_minor": 5
}
